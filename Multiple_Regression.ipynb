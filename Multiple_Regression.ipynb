{
  "nbformat": 4,
  "nbformat_minor": 0,
  "metadata": {
    "colab": {
      "name": "Multiple Regression.ipynb",
      "provenance": [],
      "collapsed_sections": [],
      "authorship_tag": "ABX9TyMrIq5foU6Lyflh7NqwR6bM",
      "include_colab_link": true
    },
    "kernelspec": {
      "name": "python3",
      "display_name": "Python 3"
    }
  },
  "cells": [
    {
      "cell_type": "markdown",
      "metadata": {
        "id": "view-in-github",
        "colab_type": "text"
      },
      "source": [
        "<a href=\"https://colab.research.google.com/github/DSamodra/playGround/blob/master/Multiple_Regression.ipynb\" target=\"_parent\"><img src=\"https://colab.research.google.com/assets/colab-badge.svg\" alt=\"Open In Colab\"/></a>"
      ]
    },
    {
      "cell_type": "markdown",
      "metadata": {
        "id": "Ll7mZMH5TB8k"
      },
      "source": [
        "# **Tugas DTI Multiple Regression**\n",
        "Dimas Samodra / DS0107 "
      ]
    },
    {
      "cell_type": "markdown",
      "metadata": {
        "id": "cygjUr1ZjGvV"
      },
      "source": [
        "**Studi kasus**\n",
        "\n",
        "masalah yang diangkat yaitu perhitungan multiple linear regression dari suatu distribusi makanan frozen pie untuk mengevaluasi faktor yang mempengaruhi permintaan. kita bisa bagi menjadi dua variable yaitu :\n",
        "\n",
        "*   Dependent Variable : Pie Sales\n",
        "*   Independent Variable : Price, Advertising\n",
        "\n",
        "Asumsi yang didapatkan :\n",
        "\n",
        "*   penjualan pie dengan harga mempunyai hubungan korelasi positif atau negatif\n",
        "*   penjualan pie dengan iklan mempunyai hubungan korelasi positif atau negatif\n",
        "\n"
      ]
    },
    {
      "cell_type": "markdown",
      "metadata": {
        "id": "rj7H3--cTsuj"
      },
      "source": [
        "## **Import library for data wragling and counting**\n",
        "\n",
        "using pandas, statsmodels, seaborn, matplotlib, sklearn"
      ]
    },
    {
      "cell_type": "code",
      "metadata": {
        "id": "CIzIJ5hwRwJ5",
        "outputId": "2829104a-3e46-4b0d-d2f8-86ebd34dee9e",
        "colab": {
          "base_uri": "https://localhost:8080/",
          "height": 51
        }
      },
      "source": [
        "#import panda and another tools\n",
        "import pandas as pd\n",
        "import statsmodels.api as sm\n",
        "import seaborn as sns\n",
        "import matplotlib.pyplot as plt\n",
        "import warnings\n",
        "from sklearn import linear_model\n",
        "\n",
        "warnings.filterwarnings('ignore')\n",
        "plt.rcParams['figure.figsize'] = (7, 7)\n",
        "plt.style.use('ggplot')"
      ],
      "execution_count": 1,
      "outputs": [
        {
          "output_type": "stream",
          "text": [
            "/usr/local/lib/python3.6/dist-packages/statsmodels/tools/_testing.py:19: FutureWarning: pandas.util.testing is deprecated. Use the functions in the public API at pandas.testing instead.\n",
            "  import pandas.util.testing as tm\n"
          ],
          "name": "stderr"
        }
      ]
    },
    {
      "cell_type": "markdown",
      "metadata": {
        "id": "HtQY38vKUDGK"
      },
      "source": [
        "## **Load the data set**\n",
        "\n",
        "kita menggunakan data set yang diberikan yaitu penjualan sales selama 15 minggu"
      ]
    },
    {
      "cell_type": "code",
      "metadata": {
        "id": "p_EsjZv1TSIJ",
        "outputId": "dfde6350-34eb-4fa1-e5c0-fb70e88ee6d4",
        "colab": {
          "base_uri": "https://localhost:8080/",
          "height": 514
        }
      },
      "source": [
        "# Import Dataset\n",
        "df = pd.read_csv('https://raw.githubusercontent.com/rc-dbe/dti/main/data/pie-sales.csv', sep =\";\")\n",
        "df"
      ],
      "execution_count": 2,
      "outputs": [
        {
          "output_type": "execute_result",
          "data": {
            "text/html": [
              "<div>\n",
              "<style scoped>\n",
              "    .dataframe tbody tr th:only-of-type {\n",
              "        vertical-align: middle;\n",
              "    }\n",
              "\n",
              "    .dataframe tbody tr th {\n",
              "        vertical-align: top;\n",
              "    }\n",
              "\n",
              "    .dataframe thead th {\n",
              "        text-align: right;\n",
              "    }\n",
              "</style>\n",
              "<table border=\"1\" class=\"dataframe\">\n",
              "  <thead>\n",
              "    <tr style=\"text-align: right;\">\n",
              "      <th></th>\n",
              "      <th>week</th>\n",
              "      <th>pie_sales</th>\n",
              "      <th>price</th>\n",
              "      <th>advertising</th>\n",
              "    </tr>\n",
              "  </thead>\n",
              "  <tbody>\n",
              "    <tr>\n",
              "      <th>0</th>\n",
              "      <td>1</td>\n",
              "      <td>350</td>\n",
              "      <td>5.5</td>\n",
              "      <td>3.3</td>\n",
              "    </tr>\n",
              "    <tr>\n",
              "      <th>1</th>\n",
              "      <td>2</td>\n",
              "      <td>460</td>\n",
              "      <td>7.5</td>\n",
              "      <td>3.3</td>\n",
              "    </tr>\n",
              "    <tr>\n",
              "      <th>2</th>\n",
              "      <td>3</td>\n",
              "      <td>350</td>\n",
              "      <td>8.0</td>\n",
              "      <td>3.0</td>\n",
              "    </tr>\n",
              "    <tr>\n",
              "      <th>3</th>\n",
              "      <td>4</td>\n",
              "      <td>430</td>\n",
              "      <td>8.0</td>\n",
              "      <td>4.5</td>\n",
              "    </tr>\n",
              "    <tr>\n",
              "      <th>4</th>\n",
              "      <td>5</td>\n",
              "      <td>350</td>\n",
              "      <td>6.8</td>\n",
              "      <td>3.0</td>\n",
              "    </tr>\n",
              "    <tr>\n",
              "      <th>5</th>\n",
              "      <td>6</td>\n",
              "      <td>380</td>\n",
              "      <td>7.5</td>\n",
              "      <td>4.0</td>\n",
              "    </tr>\n",
              "    <tr>\n",
              "      <th>6</th>\n",
              "      <td>7</td>\n",
              "      <td>430</td>\n",
              "      <td>4.5</td>\n",
              "      <td>3.0</td>\n",
              "    </tr>\n",
              "    <tr>\n",
              "      <th>7</th>\n",
              "      <td>8</td>\n",
              "      <td>470</td>\n",
              "      <td>6.4</td>\n",
              "      <td>3.7</td>\n",
              "    </tr>\n",
              "    <tr>\n",
              "      <th>8</th>\n",
              "      <td>9</td>\n",
              "      <td>450</td>\n",
              "      <td>7.0</td>\n",
              "      <td>3.5</td>\n",
              "    </tr>\n",
              "    <tr>\n",
              "      <th>9</th>\n",
              "      <td>10</td>\n",
              "      <td>490</td>\n",
              "      <td>5.0</td>\n",
              "      <td>4.0</td>\n",
              "    </tr>\n",
              "    <tr>\n",
              "      <th>10</th>\n",
              "      <td>11</td>\n",
              "      <td>340</td>\n",
              "      <td>7.2</td>\n",
              "      <td>3.5</td>\n",
              "    </tr>\n",
              "    <tr>\n",
              "      <th>11</th>\n",
              "      <td>12</td>\n",
              "      <td>300</td>\n",
              "      <td>7.9</td>\n",
              "      <td>3.2</td>\n",
              "    </tr>\n",
              "    <tr>\n",
              "      <th>12</th>\n",
              "      <td>13</td>\n",
              "      <td>440</td>\n",
              "      <td>5.9</td>\n",
              "      <td>4.0</td>\n",
              "    </tr>\n",
              "    <tr>\n",
              "      <th>13</th>\n",
              "      <td>14</td>\n",
              "      <td>450</td>\n",
              "      <td>5.0</td>\n",
              "      <td>3.5</td>\n",
              "    </tr>\n",
              "    <tr>\n",
              "      <th>14</th>\n",
              "      <td>15</td>\n",
              "      <td>300</td>\n",
              "      <td>7.0</td>\n",
              "      <td>2.7</td>\n",
              "    </tr>\n",
              "  </tbody>\n",
              "</table>\n",
              "</div>"
            ],
            "text/plain": [
              "    week  pie_sales  price  advertising\n",
              "0      1        350    5.5          3.3\n",
              "1      2        460    7.5          3.3\n",
              "2      3        350    8.0          3.0\n",
              "3      4        430    8.0          4.5\n",
              "4      5        350    6.8          3.0\n",
              "5      6        380    7.5          4.0\n",
              "6      7        430    4.5          3.0\n",
              "7      8        470    6.4          3.7\n",
              "8      9        450    7.0          3.5\n",
              "9     10        490    5.0          4.0\n",
              "10    11        340    7.2          3.5\n",
              "11    12        300    7.9          3.2\n",
              "12    13        440    5.9          4.0\n",
              "13    14        450    5.0          3.5\n",
              "14    15        300    7.0          2.7"
            ]
          },
          "metadata": {
            "tags": []
          },
          "execution_count": 2
        }
      ]
    },
    {
      "cell_type": "markdown",
      "metadata": {
        "id": "6OGvv7lkmswA"
      },
      "source": [
        "# **Show plot with sklearn**\n",
        "\n",
        "Menampilkan plot agar dapat melihat hubungan dependent variable berhubungan dengan independent variable lainnya."
      ]
    },
    {
      "cell_type": "code",
      "metadata": {
        "id": "mcgZ-kuinHRC",
        "outputId": "43f36865-1e96-46b7-f16d-b36d9802ccea",
        "colab": {
          "base_uri": "https://localhost:8080/",
          "height": 299
        }
      },
      "source": [
        "#plot for pie sales and price\n",
        "\n",
        "sns.scatterplot(x=\"pie_sales\", y=\"advertising\", color='blue', data= df)\n",
        "sns.scatterplot(x=\"pie_sales\", y=\"price\", color='red', data= df)"
      ],
      "execution_count": 49,
      "outputs": [
        {
          "output_type": "execute_result",
          "data": {
            "text/plain": [
              "<matplotlib.axes._subplots.AxesSubplot at 0x7f2d87417198>"
            ]
          },
          "metadata": {
            "tags": []
          },
          "execution_count": 49
        },
        {
          "output_type": "display_data",
          "data": {
            "image/png": "[encoded data removed]",
            "text/plain": [
              "<Figure size 432x288 with 1 Axes>"
            ]
          },
          "metadata": {
            "tags": [],
            "needs_background": "light"
          }
        }
      ]
    },
    {
      "cell_type": "markdown",
      "metadata": {
        "id": "YdJBSOwqq8MS"
      },
      "source": [
        "# **Show plot regresion with Seaborn**\n",
        "Pada sklearn kita bisa lihat titik titik dimana independent variable dan hubungan variable antara pie sales dengan advertising dan price. kemudian pada Seaborn dibuat garis yang menunjukkan regeresi linear dari variable yang disebutkan diatas\n",
        "\n",
        "Dari gambar grafik yang dihasilkan bisa diasumsikan bahwa :\n",
        "\n",
        "penjualan pie dipengaruhi dengan harga, semakin rendah harganya maka akan semakin tinggi penjualannya dan faktor lain yaitu iklan semakin tinggi maka penjualan semakin meningkat.\n",
        "\n",
        "kesimpulan:\n",
        "1.   pie_sales : price = hubungan korelasi negatif\n",
        "2.   pie_sale : advertising = hubungan korelasi positif\n",
        "\n"
      ]
    },
    {
      "cell_type": "code",
      "metadata": {
        "id": "YJ4KEvy4qIsy",
        "outputId": "3ea6b622-61ef-4e3a-d0c9-e2163fee9976",
        "colab": {
          "base_uri": "https://localhost:8080/",
          "height": 299
        }
      },
      "source": [
        "#show plot with seaborn\n",
        "sns.regplot(x=df.pie_sales, y=df.advertising, color='red')\n",
        "sns.regplot(x=df.pie_sales, y=df.price, color='blue')\n",
        "\n",
        "plt.xlabel('pie sales')\n",
        "plt.ylabel('value')"
      ],
      "execution_count": 48,
      "outputs": [
        {
          "output_type": "execute_result",
          "data": {
            "text/plain": [
              "Text(0, 0.5, 'value')"
            ]
          },
          "metadata": {
            "tags": []
          },
          "execution_count": 48
        },
        {
          "output_type": "display_data",
          "data": {
            "image/png": "[encoded data removed]",
            "text/plain": [
              "<Figure size 432x288 with 1 Axes>"
            ]
          },
          "metadata": {
            "tags": [],
            "needs_background": "light"
          }
        }
      ]
    },
    {
      "cell_type": "markdown",
      "metadata": {
        "id": "QcC5vfcAs3H_"
      },
      "source": [
        "# **Find Intercept and Coefficient on multiple variable**\n",
        "\n",
        "*   Dependent Variable : Pie Sales\n",
        "*   Independent Variable : Price, Advertising\n",
        "\n",
        "pada source code dibawah akan menghasilkan \n",
        "*   Intercept : 306,5261932837436\n",
        "*   Coefficient price : -24,97508952\n",
        "*   Coefficient advertising : 74,13095749\n",
        "\n",
        "sehingga kita bisa hitung bahwa\n",
        "\n",
        "Sales = Intercept + Coefficient(price) + Coefficient(advertising)\n",
        "\n",
        "Sales = 306,5261932837436 - 24,97508952 + 74,13095749\n"
      ]
    },
    {
      "cell_type": "code",
      "metadata": {
        "id": "ceMf3ljdtQYH",
        "outputId": "8f422f4c-dd27-42f0-fc41-5cc77cfb2adb",
        "colab": {
          "base_uri": "https://localhost:8080/",
          "height": 85
        }
      },
      "source": [
        "x = df[['price', 'advertising']]\n",
        "y = df['pie_sales']\n",
        "\n",
        "regr = linear_model.LinearRegression()\n",
        "regr.fit(x, y)\n",
        "\n",
        "#show intercept and coefficients\n",
        "print('Intercept: \\n', regr.intercept_)\n",
        "print('Coefficients: \\n', regr.coef_)"
      ],
      "execution_count": 37,
      "outputs": [
        {
          "output_type": "stream",
          "text": [
            "Intercept: \n",
            " 306.5261932837436\n",
            "Coefficients: \n",
            " [-24.97508952  74.13095749]\n"
          ],
          "name": "stdout"
        }
      ]
    },
    {
      "cell_type": "markdown",
      "metadata": {
        "id": "Gql0RaLhz7AC"
      },
      "source": [
        "# **Make prediction**\n",
        "\n",
        "Dari asumsi dan menghitung intercept dan coefficient kita bisa melihat pola hubungan dua variable dari rumus diatas, kemudian dicobakan untuk memprediksi apabila Price = 5.50 dan Advertising = 3.5 akan meghasilkan sales berapa?\n"
      ]
    },
    {
      "cell_type": "code",
      "metadata": {
        "id": "388B1WUz0UYe",
        "outputId": "89043478-424e-40fe-a8d9-7a770d7c8bfc",
        "colab": {
          "base_uri": "https://localhost:8080/",
          "height": 34
        }
      },
      "source": [
        "regr = linear_model.LinearRegression()\n",
        "regr.fit(x, y)\n",
        "\n",
        "predict = regr.predict([[5.50, 3.5]])\n",
        "print(predict)"
      ],
      "execution_count": 43,
      "outputs": [
        {
          "output_type": "stream",
          "text": [
            "[428.62155215]\n"
          ],
          "name": "stdout"
        }
      ]
    },
    {
      "cell_type": "markdown",
      "metadata": {
        "id": "24V1r92D1Xos"
      },
      "source": [
        "# **Regression with stat model**\n",
        "setelah megetahui pola dan mencoba prediksi, kemudian dicobakan menghitung regresi menggunakan stat model dengan menambah konstanta nilai independent variable yang bisa dilihat hasilnya dibawah"
      ]
    },
    {
      "cell_type": "code",
      "metadata": {
        "id": "kI7wxV3J1YZc",
        "outputId": "b0a9a15c-59cc-4a62-f001-eeb2485ea8be",
        "colab": {
          "base_uri": "https://localhost:8080/",
          "height": 459
        }
      },
      "source": [
        "x = sm.add_constant(x)\n",
        "model = sm.OLS(y, x).fit()\n",
        "predictions = model.predict(x) \n",
        "\n",
        "print_model = model.summary()\n",
        "print(print_model)"
      ],
      "execution_count": 44,
      "outputs": [
        {
          "output_type": "stream",
          "text": [
            "                            OLS Regression Results                            \n",
            "==============================================================================\n",
            "Dep. Variable:              pie_sales   R-squared:                       0.521\n",
            "Model:                            OLS   Adj. R-squared:                  0.442\n",
            "Method:                 Least Squares   F-statistic:                     6.539\n",
            "Date:                Wed, 21 Oct 2020   Prob (F-statistic):             0.0120\n",
            "Time:                        15:45:12   Log-Likelihood:                -77.510\n",
            "No. Observations:                  15   AIC:                             161.0\n",
            "Df Residuals:                      12   BIC:                             163.1\n",
            "Df Model:                           2                                         \n",
            "Covariance Type:            nonrobust                                         \n",
            "===============================================================================\n",
            "                  coef    std err          t      P>|t|      [0.025      0.975]\n",
            "-------------------------------------------------------------------------------\n",
            "const         306.5262    114.254      2.683      0.020      57.588     555.464\n",
            "price         -24.9751     10.832     -2.306      0.040     -48.576      -1.374\n",
            "advertising    74.1310     25.967      2.855      0.014      17.553     130.709\n",
            "==============================================================================\n",
            "Omnibus:                        1.505   Durbin-Watson:                   1.683\n",
            "Prob(Omnibus):                  0.471   Jarque-Bera (JB):                0.937\n",
            "Skew:                           0.595   Prob(JB):                        0.626\n",
            "Kurtosis:                       2.709   Cond. No.                         72.2\n",
            "==============================================================================\n",
            "\n",
            "Warnings:\n",
            "[1] Standard Errors assume that the covariance matrix of the errors is correctly specified.\n"
          ],
          "name": "stdout"
        }
      ]
    },
    {
      "cell_type": "markdown",
      "metadata": {
        "id": "qJRwqLNy57g7"
      },
      "source": [
        "# **Kesimpulan**\n",
        "Dari perhintungan yang telah dilakukan dan nilai yang didapatkan maka :\n",
        "\n",
        "\n",
        "1.   Semakin rendah harga semakin tinggi angka penjualan\n",
        "2.   Semakin tinggi iklan maka semakin tinggi juga dengan angka penjualan\n",
        "\n",
        "\n"
      ]
    }
  ]
}